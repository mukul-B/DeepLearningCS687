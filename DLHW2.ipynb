{
  "nbformat": 4,
  "nbformat_minor": 0,
  "metadata": {
    "colab": {
      "name": "DLHW2.ipynb",
      "provenance": [],
      "authorship_tag": "ABX9TyMTrfZJvoz+StDTr7LCvEzf",
      "include_colab_link": true
    },
    "kernelspec": {
      "name": "python3",
      "display_name": "Python 3"
    },
    "language_info": {
      "name": "python"
    }
  },
  "cells": [
    {
      "cell_type": "markdown",
      "metadata": {
        "id": "view-in-github",
        "colab_type": "text"
      },
      "source": [
        "<a href=\"https://colab.research.google.com/github/mukul-B/DeepLearningCS687/blob/main/DLHW2.ipynb\" target=\"_parent\"><img src=\"https://colab.research.google.com/assets/colab-badge.svg\" alt=\"Open In Colab\"/></a>"
      ]
    },
    {
      "cell_type": "code",
      "execution_count": 1,
      "metadata": {
        "colab": {
          "base_uri": "https://localhost:8080/",
          "height": 282
        },
        "id": "E18lmsqBIXzH",
        "outputId": "969bc166-b64a-4f1e-fa3a-48c8a1a535fa"
      },
      "outputs": [
        {
          "output_type": "stream",
          "name": "stderr",
          "text": [
            "No handles with labels found to put in legend.\n"
          ]
        },
        {
          "output_type": "display_data",
          "data": {
            "image/png": "[encoded data removed]",
            "text/plain": [
              "<Figure size 432x288 with 1 Axes>"
            ]
          },
          "metadata": {
            "needs_background": "light"
          }
        }
      ],
      "source": [
        "import numpy as np\n",
        "import matplotlib.pyplot as plt\n",
        "\n",
        "N=125\n",
        "data = np.random.uniform(low=[-N, 0], high=[0, N], size=(N,2))\n",
        "data2 = np.random.uniform(low=[0, -N], high=[N, 0], size=(N,2))\n",
        "x = np.concatenate((data, data2),axis=0) \n",
        "xyz=np.array(np.random.randint(-N, 0, (N, 2)))\n",
        "xyz2=np.array(np.random.randint(0, N, (N, 2)))\n",
        "o = np.concatenate((xyz, xyz2),axis=0) \n",
        "\n",
        "plt.scatter(x[:,0], x[:,1],marker=\"+\",c=\"red\")\n",
        "plt.scatter(o[:,0], o[:,1],marker=\"o\",c=\"blue\")\n",
        "plt.legend()\n",
        "plt.grid(True)\n",
        "plt.show()"
      ]
    },
    {
      "cell_type": "code",
      "source": [
        ""
      ],
      "metadata": {
        "id": "0L7KZsdngJo5"
      },
      "execution_count": null,
      "outputs": []
    },
    {
      "cell_type": "code",
      "source": [
        "y_x=np.array([[1,0] for i in range(len(x))])\n",
        "y_o= np.array([[0,1] for i in range(len(o))])\n",
        "\n",
        "x_train= x+o\n",
        "y_train= y_x+ y_o\n",
        "print(x_train.shape)"
      ],
      "metadata": {
        "colab": {
          "base_uri": "https://localhost:8080/"
        },
        "id": "eIEqzV7jIiJ7",
        "outputId": "e59c2052-a9ed-42f4-da9e-db81c61e416d"
      },
      "execution_count": 2,
      "outputs": [
        {
          "output_type": "stream",
          "name": "stdout",
          "text": [
            "(250, 2)\n"
          ]
        }
      ]
    },
    {
      "cell_type": "code",
      "source": [
        "from keras.layers.core.activation import Activation\n",
        "from keras.models import Sequential\n",
        "from keras.layers import Dense\n",
        "\n",
        "model = Sequential()\n",
        "input_shape = x_train.shape  \n",
        "model.add(Dense(8,activation=\"relu\",input_dim=2))\n",
        "\n",
        "model.add(Dense(2,activation=\"sigmoid\"))\n"
      ],
      "metadata": {
        "id": "GnInjtqxK1_U"
      },
      "execution_count": 3,
      "outputs": []
    },
    {
      "cell_type": "code",
      "source": [
        ""
      ],
      "metadata": {
        "id": "4rskoFDEMxmq"
      },
      "execution_count": null,
      "outputs": []
    },
    {
      "cell_type": "code",
      "source": [
        "\n",
        "model.build(input_shape) \n",
        "model.summary()\n",
        "for layer in model.layers:\n",
        "    print(layer.output_shape)"
      ],
      "metadata": {
        "colab": {
          "base_uri": "https://localhost:8080/"
        },
        "id": "oa3u1DWmMxqA",
        "outputId": "bfdeef0c-ac25-4677-92c6-78050ca7b64c"
      },
      "execution_count": 4,
      "outputs": [
        {
          "output_type": "stream",
          "name": "stdout",
          "text": [
            "Model: \"sequential\"\n",
            "_________________________________________________________________\n",
            " Layer (type)                Output Shape              Param #   \n",
            "=================================================================\n",
            " dense (Dense)               (None, 8)                 24        \n",
            "                                                                 \n",
            " dense_1 (Dense)             (None, 2)                 18        \n",
            "                                                                 \n",
            "=================================================================\n",
            "Total params: 42\n",
            "Trainable params: 42\n",
            "Non-trainable params: 0\n",
            "_________________________________________________________________\n",
            "(None, 8)\n",
            "(None, 2)\n"
          ]
        }
      ]
    },
    {
      "cell_type": "code",
      "source": [
        "model.compile(loss='binary_crossentropy', optimizer='adam', metrics=['accuracy'])\n",
        "model.fit(x_train,y_train,epochs=3,batch_size=15, verbose = 1)"
      ],
      "metadata": {
        "colab": {
          "base_uri": "https://localhost:8080/"
        },
        "id": "QWutlQaTRtdA",
        "outputId": "0a1ab430-4d0e-493b-8f6e-cf6a489ca098"
      },
      "execution_count": 5,
      "outputs": [
        {
          "output_type": "stream",
          "name": "stdout",
          "text": [
            "Epoch 1/3\n",
            "17/17 [==============================] - 1s 2ms/step - loss: 19.9176 - accuracy: 0.2200\n",
            "Epoch 2/3\n",
            "17/17 [==============================] - 0s 4ms/step - loss: 15.8960 - accuracy: 0.2280\n",
            "Epoch 3/3\n",
            "17/17 [==============================] - 0s 4ms/step - loss: 12.1634 - accuracy: 0.2440\n"
          ]
        },
        {
          "output_type": "execute_result",
          "data": {
            "text/plain": [
              "<keras.callbacks.History at 0x7fb2b4cf37d0>"
            ]
          },
          "metadata": {},
          "execution_count": 5
        }
      ]
    },
    {
      "cell_type": "code",
      "source": [
        "\n",
        "NT=150\n",
        "\n",
        "x_test=o[np.random.randint(250, size=NT),:] + x[np.random.randint(250, size=NT),:]\n",
        "y_test=y_o[:NT] + y_x[:NT]\n",
        "score= model.evaluate(x_test,y_test)\n"
      ],
      "metadata": {
        "colab": {
          "base_uri": "https://localhost:8080/"
        },
        "id": "sgq7ltL3adhA",
        "outputId": "140a7b03-611d-448f-c5c3-f1644ef907c7"
      },
      "execution_count": 6,
      "outputs": [
        {
          "output_type": "stream",
          "name": "stdout",
          "text": [
            "5/5 [==============================] - 0s 3ms/step - loss: 15.5064 - accuracy: 0.4067\n"
          ]
        }
      ]
    },
    {
      "cell_type": "code",
      "source": [
        "   \n",
        "d= [ \"red\" if i[0] >i [1] else \"green\" for i in model.predict(x_test)]\n",
        "plt.scatter(x_test[:,0], x_test[:,1],c=d)\n",
        "\n",
        "plt.legend()\n",
        "plt.grid(True)\n",
        "plt.show()\n",
        "\n"
      ],
      "metadata": {
        "colab": {
          "base_uri": "https://localhost:8080/",
          "height": 282
        },
        "id": "E4j9g92hgMIX",
        "outputId": "5f00316d-28f9-44ad-9d7f-902d1a284189"
      },
      "execution_count": 7,
      "outputs": [
        {
          "output_type": "stream",
          "name": "stderr",
          "text": [
            "No handles with labels found to put in legend.\n"
          ]
        },
        {
          "output_type": "display_data",
          "data": {
            "image/png": "[encoded data removed]",
            "text/plain": [
              "<Figure size 432x288 with 1 Axes>"
            ]
          },
          "metadata": {
            "needs_background": "light"
          }
        }
      ]
    },
    {
      "cell_type": "code",
      "source": [
        "\n",
        "def plot_decision_boundary(model, X, y):\n",
        "    # Set min and max values and give it some padding\n",
        "    x_min, x_max = X[:, 0].min() - .5, X[:, 0].max() + .5\n",
        "    y_min, y_max = X[:, 1].min() - .5, X[:, 1].max() + .5\n",
        "    h = 0.01\n",
        "    # Generate a grid of points with distance h between them\n",
        "    xx, yy = np.meshgrid(np.arange(x_min, x_max, h), np.arange(y_min, y_max, h))\n",
        "    # Predict the function value for the whole gid\n",
        "    Z = model.predict(x_test)(np.c_[xx.ravel(), yy.ravel()])\n",
        "    Z = Z.reshape(xx.shape)\n",
        "    # Plot the contour and training examples\n",
        "    plt.contourf(xx, yy, Z, cmap=plt.cm.Spectral)\n",
        "    plt.scatter(X[:, 0], X[:, 1], c=y, cmap=plt.cm.Spectral)\n",
        "plot_decision_boundary(model, x_test,y_test) "
      ],
      "metadata": {
        "id": "RMWEvP5CkwaG"
      },
      "execution_count": null,
      "outputs": []
    }
  ]
}